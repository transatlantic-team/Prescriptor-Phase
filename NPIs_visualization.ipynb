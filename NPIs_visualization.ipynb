{
 "cells": [
  {
   "cell_type": "markdown",
   "id": "prescription-revision",
   "metadata": {},
   "source": [
    "# Visualizing NPIs and cases evolution\n",
    "\n",
    "### Simple visualization of NPIs stringency evolution with daily new cases increase according to the country (GeoID)."
   ]
  },
  {
   "cell_type": "code",
   "execution_count": 1,
   "id": "consolidated-cinema",
   "metadata": {},
   "outputs": [],
   "source": [
    "import pandas as pd\n",
    "import os\n",
    "import numpy as np\n",
    "\n",
    "#Ignore pandas warnings\n",
    "import warnings\n",
    "warnings.simplefilter(\"ignore\")\n",
    "\n",
    "import matplotlib.pyplot as plt\n",
    "import seaborn as sns\n",
    "import matplotlib.dates as mdates\n",
    "from matplotlib.dates import (DateFormatter, MonthLocator)\n",
    "\n",
    "import ipywidgets as widgets\n",
    "from ipywidgets import interact\n",
    "\n",
    "%matplotlib inline\n",
    "import matplotlib as mpl\n",
    "mpl.rcParams['figure.dpi']= 150"
   ]
  },
  {
   "cell_type": "code",
   "execution_count": 2,
   "id": "arabic-inspector",
   "metadata": {},
   "outputs": [],
   "source": [
    "#!conda install -n base -c conda-forge widgetsnbextension\n",
    "#!conda install -n py36 -c conda-forge ipywidgets\n",
    "#!jupyter nbextension enable --py widgetsnbextension --sys-prefix"
   ]
  },
  {
   "cell_type": "markdown",
   "id": "downtown-mississippi",
   "metadata": {},
   "source": [
    "## Get data up to today as example"
   ]
  },
  {
   "cell_type": "code",
   "execution_count": 3,
   "id": "described-comparison",
   "metadata": {},
   "outputs": [],
   "source": [
    "def add_GEOID(dataset):\n",
    "    # Add RegionID column that combines CountryName and RegionName for easier manipulation of data\n",
    "    dataset['GeoID'] = dataset['CountryName'] + '__' + dataset['RegionName'].astype(str)\n",
    "    return dataset"
   ]
  },
  {
   "cell_type": "code",
   "execution_count": 4,
   "id": "falling-ordinance",
   "metadata": {},
   "outputs": [],
   "source": [
    "url='https://raw.githubusercontent.com/OxCGRT/covid-policy-tracker/master/data/OxCGRT_latest.csv'\n",
    "latest_df = pd.read_csv(url,parse_dates=['Date'],\n",
    "                            encoding=\"ISO-8859-1\",\n",
    "                            dtype={\"RegionName\": str,\n",
    "                                   \"RegionCode\": str},\n",
    "                            error_bad_lines=False)\n",
    "latest_df[\"RegionName\"] = latest_df[\"RegionName\"].fillna(\"\")\n",
    "\n",
    "NPI_COLUMNS = ['C1_School closing',\n",
    "               'C2_Workplace closing',\n",
    "               'C3_Cancel public events',\n",
    "               'C4_Restrictions on gatherings',\n",
    "               'C5_Close public transport',\n",
    "               'C6_Stay at home requirements',\n",
    "               'C7_Restrictions on internal movement',\n",
    "               'C8_International travel controls',\n",
    "               'H1_Public information campaigns',\n",
    "               'H2_Testing policy',\n",
    "               'H3_Contact tracing',\n",
    "               'H6_Facial Coverings']\n",
    "ID_COLUMNS = ['CountryName',\n",
    "              'RegionName',\n",
    "              'Date']\n",
    "\n",
    "df = latest_df[ID_COLUMNS+NPI_COLUMNS+['ConfirmedCases']]\n",
    "\n",
    "#Add geoID for easier manipulation of data\n",
    "df = add_GEOID(df)\n",
    "\n",
    "# Add new cases column\n",
    "df['NewCases'] = df.groupby('GeoID').ConfirmedCases.diff().fillna(0)\n",
    "\n",
    "# Fill any missing case values by interpolation and setting NaNs to 0\n",
    "df.update(df.groupby('GeoID').NewCases.apply(\n",
    "    lambda group: group.interpolate()).fillna(0))\n",
    "\n",
    "# Fill any missing NPIs by assuming they are the same as previous day\n",
    "for npi_col in NPI_COLUMNS:\n",
    "    df.update(df.groupby('GeoID')[npi_col].ffill().fillna(0))\n",
    "    \n",
    "# Compute the 7 day moving average\n",
    "df[\"ActualDailyNewCases7DMA\"] = df.groupby(\n",
    "        \"GeoID\")['NewCases'].rolling(7, center=False).mean().reset_index(0, drop=True).fillna(0)\n",
    "\n",
    "#Get final npis and cases csv (should be the same output format as predictions of cases or npis)\n",
    "cases = df[ID_COLUMNS+[\"ActualDailyNewCases7DMA\"]]\n",
    "ip = df[ID_COLUMNS+NPI_COLUMNS]\n",
    "\n",
    "#Add GeoID for easier manipulation of data\n",
    "cases = add_GEOID(cases)\n",
    "ip = add_GEOID(ip)"
   ]
  },
  {
   "cell_type": "markdown",
   "id": "gorgeous-poster",
   "metadata": {},
   "source": [
    "## Plots"
   ]
  },
  {
   "cell_type": "code",
   "execution_count": 5,
   "id": "earlier-plasma",
   "metadata": {},
   "outputs": [],
   "source": [
    "#Labels for plot of NPIs evolution\n",
    "ip_labels = ['School closing', 'Workplace closing','Cancel public events','Restrictions on gatherings',\n",
    "'Close public transport','Stay at home requirements','Restrictions on internal movement',\n",
    "'International travel controls','Public information campaigns','Testing policy','Contact tracing','Facial Coverings']"
   ]
  },
  {
   "cell_type": "code",
   "execution_count": 6,
   "id": "alike-glance",
   "metadata": {},
   "outputs": [
    {
     "data": {
      "application/vnd.jupyter.widget-view+json": {
       "model_id": "a6322a9985df41208b5c10864fe05804",
       "version_major": 2,
       "version_minor": 0
      },
      "text/plain": [
       "interactive(children=(Dropdown(description='GeoID:', options=('Aruba__', 'Afghanistan__', 'Angola__', 'Albania…"
      ]
     },
     "metadata": {},
     "output_type": "display_data"
    },
    {
     "data": {
      "text/plain": [
       "<function __main__.plot_npi_evolution(country)>"
      ]
     },
     "execution_count": 6,
     "metadata": {},
     "output_type": "execute_result"
    }
   ],
   "source": [
    "def plot_npi_evolution(country):\n",
    "    # Pull out all relevant data for country selected\n",
    "    ip_gdf = ip[ip.GeoID == country]\n",
    "    npi_array = np.array(ip_gdf[NPI_COLUMNS])\n",
    "    \n",
    "    fig = plt.figure(figsize=(20,15))\n",
    "    sns.set(font_scale=1.4)\n",
    "    \n",
    "    #First plot of new confirmed cases\n",
    "    plt.subplot(211)\n",
    "    plt.fill_between(df.Date.unique(), cases[cases.GeoID==country].ActualDailyNewCases7DMA, color ='steelblue')\n",
    "    \n",
    "    #Set our date locator by month because of space constraint\n",
    "    loc = MonthLocator()\n",
    "    formatter = DateFormatter('%d/%m/%y')\n",
    "    \n",
    "    ax = plt.gca()\n",
    "    ax.xaxis.set_major_locator(loc)\n",
    "    ax.xaxis.set_major_formatter(formatter)\n",
    "    ax.xaxis.set_tick_params(rotation=20, labelsize=14, color='darkblue')\n",
    "    ax.tick_params(labelcolor='darkblue')\n",
    "    plt.ylabel('Daily New Cases (7DMA)', size=20, color='darkblue') #, plt.xlabel('Date', color ='darkblue', size=20)  \n",
    "    \n",
    "    #Plot the NPIs evolution through heatmap\n",
    "    plt.subplot(212) \n",
    "    ax = sns.heatmap(npi_array.T, vmin =npi_array.min(), vmax= npi_array.max(), linewidths=.1,\n",
    "                 xticklabels = (),\n",
    "                 yticklabels = ip_labels, label=ip_labels,\n",
    "                 cmap=sns.color_palette(\"Reds\"), annot=False,\n",
    "                 annot_kws={'size':30},\n",
    "                cbar_kws={'fraction':0.05,'aspect':35, 'label':'NPIs stringency',\"orientation\": \"horizontal\",'ticks':[0,1,2,3,4],\n",
    "                         'values':[0,1,2,3,4]})\n",
    "    ax.tick_params(labelcolor='darkblue')\n",
    "    plt.tight_layout()\n",
    "    plt.show()\n",
    "\n",
    "    \n",
    "    \n",
    "w_countries = widgets.Dropdown(options=df.GeoID.unique(), value='Aruba__', description='GeoID:', disabled=False)\n",
    "\n",
    "interact(plot_npi_evolution, country=w_countries)\n"
   ]
  },
  {
   "cell_type": "markdown",
   "id": "israeli-emperor",
   "metadata": {},
   "source": [
    "## To plot from predicted NPIs"
   ]
  },
  {
   "cell_type": "code",
   "execution_count": null,
   "id": "acquired-battery",
   "metadata": {},
   "outputs": [],
   "source": [
    "\"\"\"\n",
    "#Import data\n",
    "future_ips = pd.read_csv(predicted_npis_filepath, parse_dates=['Date'],\n",
    "                            encoding=\"ISO-8859-1\",\n",
    "                            dtype={\"RegionName\": str,\n",
    "                                   \"RegionCode\": str},\n",
    "                            error_bad_lines=False)\n",
    "                            \n",
    "cases = pd.read_csv(cases_filepath, parse_dates=['Date'],\n",
    "                            encoding=\"ISO-8859-1\",\n",
    "                            dtype={\"RegionName\": str,\n",
    "                                   \"RegionCode\": str},\n",
    "                            error_bad_lines=False)\n",
    "                            \n",
    "#Add GeoID for easier manipulation of data\n",
    "cases = add_GEOID(cases)\n",
    "ip = add_GEOID(future_ips)\n",
    "\n",
    "#Plot\n",
    "#Reminder: change columns names to plot from in 'plot_npi_evolution' function\n",
    "w_countries = widgets.Dropdown(options=df.GeoID.unique(), value='Aruba__', description='GeoID:', disabled=False)\n",
    "interact(plot_npi_evolution, country=w_countries)\n",
    "\n",
    "\"\"\""
   ]
  },
  {
   "cell_type": "code",
   "execution_count": null,
   "id": "impossible-forth",
   "metadata": {},
   "outputs": [],
   "source": []
  },
  {
   "cell_type": "code",
   "execution_count": null,
   "id": "exact-mustang",
   "metadata": {},
   "outputs": [],
   "source": []
  }
 ],
 "metadata": {
  "kernelspec": {
   "display_name": "Python 3",
   "language": "python",
   "name": "python3"
  },
  "language_info": {
   "codemirror_mode": {
    "name": "ipython",
    "version": 3
   },
   "file_extension": ".py",
   "mimetype": "text/x-python",
   "name": "python",
   "nbconvert_exporter": "python",
   "pygments_lexer": "ipython3",
   "version": "3.8.5"
  }
 },
 "nbformat": 4,
 "nbformat_minor": 5
}
